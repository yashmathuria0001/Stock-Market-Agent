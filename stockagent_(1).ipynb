{
  "cells": [
    {
      "cell_type": "markdown",
      "metadata": {
        "id": "view-in-github",
        "colab_type": "text"
      },
      "source": [
        "<a href=\"https://colab.research.google.com/github/yashmathuria0001/Stock-Market-Agent/blob/main/stockagent_(1).ipynb\" target=\"_parent\"><img src=\"https://colab.research.google.com/assets/colab-badge.svg\" alt=\"Open In Colab\"/></a>"
      ]
    },
    {
      "cell_type": "code",
      "execution_count": 41,
      "metadata": {
        "id": "x9mynMEeE-VT"
      },
      "outputs": [],
      "source": [
        "!pip install langchain langchain-community groq yfinance langchain_groq tavily-python --quiet"
      ]
    },
    {
      "cell_type": "code",
      "execution_count": 42,
      "metadata": {
        "id": "_bvjOwp6JKz_"
      },
      "outputs": [],
      "source": [
        "!pip install -qU duckduckgo-search"
      ]
    },
    {
      "cell_type": "code",
      "source": [
        "!pip install -U langchain-google-genai google-generativeai langchain yfinance langchain-experimental --quiet\n"
      ],
      "metadata": {
        "id": "9Rnnsj_mqZ8f"
      },
      "execution_count": 43,
      "outputs": []
    },
    {
      "cell_type": "code",
      "execution_count": 44,
      "metadata": {
        "id": "tThgFjx-HzL-"
      },
      "outputs": [],
      "source": [
        "from google.colab import userdata\n",
        "# from langchain_groq import ChatGroq\n",
        "import google.generativeai as genai\n",
        "\n",
        "gemini_api = userdata.get('gemini_api')\n",
        "genai.configure(api_key=gemini_api)\n",
        "\n",
        "# Initialize Gemini model\n",
        "llm = genai.GenerativeModel(\"gemini-2.0-flash\")\n",
        "\n",
        "\n",
        "\n",
        "# llm = ChatGroq(model_name=\"llama3-70b-8192\", api_key=userdata.get('new_api'))"
      ]
    },
    {
      "cell_type": "code",
      "execution_count": 48,
      "metadata": {
        "id": "jQMedfm7GJrt"
      },
      "outputs": [],
      "source": [
        "import os\n",
        "import yfinance as yf\n",
        "from langchain.tools import Tool\n",
        "from langchain.agents import initialize_agent, AgentType\n",
        "from langchain_google_genai import GoogleGenerativeAI  # ✅ Correct Import\n",
        "import ast\n",
        "import operator as op\n",
        "from google.colab import userdata\n",
        "\n",
        "# ✅ Get Gemini API Key from Colab Secure Storage\n",
        "gemini_api = userdata.get('gemini_api')\n",
        "\n",
        "# ✅ Initialize Gemini AI in LangChain\n",
        "llm = GoogleGenerativeAI(model=\"gemini-2.0-flash\", google_api_key=gemini_api)\n",
        "\n",
        "# ✅ Fetch Stock Price from Yahoo Finance\n",
        "def get_stock_price(ticker: str) -> str:\n",
        "    try:\n",
        "        stock = yf.Ticker(ticker)\n",
        "        price = stock.history(period=\"1d\")[\"Close\"].iloc[-1]\n",
        "        return f\"The latest stock price of {ticker} is ${price:.2f}\"\n",
        "    except Exception as e:\n",
        "        return f\"Error fetching stock price for {ticker}: {str(e)}\"\n",
        "\n",
        "# ✅ Fetch Financial Report from Yahoo Finance\n",
        "def get_finance_report(ticker: str) -> str:\n",
        "    try:\n",
        "        stock = yf.Ticker(ticker)\n",
        "        info = stock.info\n",
        "        financials = stock.financials\n",
        "        report = f\"Company: {info.get('longName', ticker)}\\n\"\n",
        "        report += f\"Sector: {info.get('sector', 'N/A')}\\n\"\n",
        "        report += \"Recent Financials:\\n\"\n",
        "        report += str(financials.head())\n",
        "        return report\n",
        "    except Exception as e:\n",
        "        return f\"Error fetching finance report for {ticker}: {str(e)}\"\n",
        "\n",
        "# ✅ Enhanced Stock Analysis for Buy/Sell/Hold Recommendation using Gemini AI\n",
        "def analyze_stock(ticker: str) -> str:\n",
        "    try:\n",
        "        stock = yf.Ticker(ticker)\n",
        "        history = stock.history(period=\"1y\")  # Last 1-year data for better accuracy\n",
        "\n",
        "        if history.empty:\n",
        "            return f\"Could not fetch data for {ticker}. Try again later.\"\n",
        "\n",
        "        latest_price = history[\"Close\"].iloc[-1]\n",
        "        last_week_price = history[\"Close\"].iloc[-5] if len(history) > 5 else history[\"Close\"].iloc[0]\n",
        "        last_month_price = history[\"Close\"].iloc[-22] if len(history) > 22 else history[\"Close\"].iloc[0]\n",
        "        last_year_price = history[\"Close\"].iloc[0]\n",
        "\n",
        "        weekly_change = ((latest_price - last_week_price) / last_week_price) * 100\n",
        "        monthly_change = ((latest_price - last_month_price) / last_month_price) * 100\n",
        "        yearly_change = ((latest_price - last_year_price) / last_year_price) * 100\n",
        "\n",
        "        prompt = f\"\"\"\n",
        "        Analyze the stock performance for {ticker} based on historical price movements and market trends.\n",
        "\n",
        "        Key Data:\n",
        "        - Latest Price: ${latest_price:.2f}\n",
        "        - Weekly Change: {weekly_change:.2f}%\n",
        "        - Monthly Change: {monthly_change:.2f}%\n",
        "        - Yearly Change: {yearly_change:.2f}%\n",
        "\n",
        "        Provide a recommendation (Buy, Sell, Hold) considering:\n",
        "        - Short-term and long-term trends\n",
        "        - Market volatility and investor sentiment\n",
        "        - Potential risks and opportunities\n",
        "        - Justify your recommendation with clear reasoning and insights.\n",
        "        \"\"\"\n",
        "\n",
        "        response = llm.invoke(prompt)\n",
        "        return response\n",
        "    except Exception as e:\n",
        "        return f\"Error analyzing stock {ticker}: {str(e)}\"\n",
        "\n",
        "# ✅ Stop-Loss Price Calculation using Gemini AI\n",
        "def get_stop_loss_price(ticker: str, entry_price: float, risk_percent: float = 2.0) -> str:\n",
        "    try:\n",
        "        stock = yf.Ticker(ticker)\n",
        "        latest_price = stock.history(period=\"1d\")[\"Close\"].iloc[-1]\n",
        "\n",
        "        stop_loss_price = entry_price * (1 - risk_percent / 100)\n",
        "\n",
        "        prompt = f\"\"\"\n",
        "        Calculate an appropriate stop-loss price for {ticker} based on the following:\n",
        "        - Entry Price: ${entry_price:.2f}\n",
        "        - Latest Market Price: ${latest_price:.2f}\n",
        "        - Risk Percentage: {risk_percent:.2f}%\n",
        "\n",
        "        Consider:\n",
        "        - Market volatility and recent fluctuations\n",
        "        - Support and resistance levels\n",
        "        - Optimal risk management strategies\n",
        "\n",
        "        Provide a recommendation on where to set the stop-loss and justify the decision.\n",
        "        \"\"\"\n",
        "\n",
        "        response = llm.invoke(prompt)\n",
        "        return response\n",
        "    except Exception as e:\n",
        "        return f\"Error calculating stop-loss for {ticker}: {str(e)}\"\n",
        "\n",
        "# ✅ Create LangChain Tools\n",
        "finance_report_tool = Tool(\n",
        "    name=\"Yahoo Finance Report\",\n",
        "    func=get_finance_report,\n",
        "    description=\"Fetches key financial data for a given ticker symbol (e.g., AAPL, TSLA, MSFT).\"\n",
        ")\n",
        "\n",
        "stock_price_tool = Tool(\n",
        "    name=\"Stock Price Fetcher\",\n",
        "    func=get_stock_price,\n",
        "    description=\"Fetches the latest stock price for a given ticker symbol (e.g., AAPL, TSLA, MSFT).\"\n",
        ")\n",
        "\n",
        "stock_analysis_tool = Tool(\n",
        "    name=\"Stock Analysis Tool\",\n",
        "    func=analyze_stock,\n",
        "    description=\"Analyzes stock trends over 1 year and recommends Buy, Sell, or Hold using Gemini AI. Example: 'AAPL'.\"\n",
        ")\n",
        "\n",
        "stop_loss_tool = Tool(\n",
        "    name=\"Stop Loss Calculator\",\n",
        "    func=lambda x: get_stop_loss_price(x.split(',')[0], float(x.split(',')[1]), float(x.split(',')[2]) if len(x.split(',')) > 2 else 2.0),\n",
        "    description=\"Calculates an appropriate stop-loss price based on entry price and risk percentage. Example: 'AAPL,230,1.5' or 'AAPL,230' (default 2% risk).\"\n",
        ")\n",
        "\n",
        "# ✅ Initialize LangChain Agent with Gemini AI\n",
        "agent = initialize_agent(\n",
        "    tools=[stock_price_tool, finance_report_tool, stock_analysis_tool, stop_loss_tool],\n",
        "    llm=llm,\n",
        "    agent=AgentType.ZERO_SHOT_REACT_DESCRIPTION,\n",
        "    verbose=True\n",
        ")"
      ]
    },
    {
      "cell_type": "code",
      "execution_count": 49,
      "metadata": {
        "id": "_hDdNX-EPfn3",
        "colab": {
          "base_uri": "https://localhost:8080/"
        },
        "outputId": "f4dae620-ab15-4f34-d630-db81453c1fa4"
      },
      "outputs": [
        {
          "output_type": "stream",
          "name": "stdout",
          "text": [
            "\n",
            "\n",
            "\u001b[1m> Entering new AgentExecutor chain...\u001b[0m\n",
            "\u001b[32;1m\u001b[1;3mI need to analyze the stock trends for Microsoft to provide a recommendation.\n",
            "Action: Stock Analysis Tool\n",
            "Action Input: MSFT\u001b[0m\n",
            "Observation: \u001b[38;5;200m\u001b[1;3mOkay, let's analyze Microsoft's (MSFT) stock performance based on the provided data and current market conditions.\n",
            "\n",
            "**Analysis of Microsoft (MSFT) Stock Performance**\n",
            "\n",
            "*   **Latest Price:** $393.08\n",
            "*   **Weekly Change:** 2.49% (Positive)\n",
            "*   **Monthly Change:** -3.71% (Negative)\n",
            "*   **Yearly Change:** -6.33% (Negative)\n",
            "\n",
            "**Interpretation of Data:**\n",
            "\n",
            "*   **Short-Term (Weekly):** The positive weekly change suggests a recent upward trend.  This could be due to a short-term catalyst, positive news, or simply a correction after a previous dip.\n",
            "*   **Mid-Term (Monthly):** The negative monthly change indicates some weakness in the past month. This suggests the recent positive week might be a counter-trend rally or a recovery from a more significant decline.\n",
            "*   **Long-Term (Yearly):** The negative yearly change paints a picture of underperformance over the past year. This could be attributed to broader market conditions, specific company challenges, or a combination of both.\n",
            "\n",
            "**Market Trends and Investor Sentiment:**\n",
            "\n",
            "*   **Overall Market:**  It's crucial to consider the overall market context.  Is the market generally bullish, bearish, or sideways?  If the market is in a correction, MSFT's yearly decline might be less concerning. If the market has been generally bullish, MSFT's underperformance is more noteworthy. Assume the market is fluctuating with mixed sentiments due to inflation and rate hike concerns.\n",
            "*   **Tech Sector:** How is the tech sector performing relative to the broader market?  If the tech sector is struggling, MSFT's performance might be par for the course.\n",
            "*   **Investor Sentiment:** Gauge investor sentiment towards MSFT. Are analysts downgrading the stock? Is there negative news flow surrounding the company? Conversely, are there positive catalysts or upgrades driving optimism?\n",
            "*   **Volatility:**  Market volatility is a key factor. High volatility can lead to rapid price swings, making it harder to predict short-term movements.\n",
            "\n",
            "**Potential Risks and Opportunities:**\n",
            "\n",
            "*   **Risks:**\n",
            "    *   **Economic Slowdown:** A potential recession could negatively impact MSFT's revenue, especially in areas like cloud computing and enterprise software.\n",
            "    *   **Increased Competition:** Competition in the cloud computing space (AWS, Google Cloud) is intense and could pressure MSFT's margins.\n",
            "    *   **Regulatory Scrutiny:** MSFT faces potential regulatory scrutiny regarding antitrust and data privacy, which could lead to fines or restrictions on its business practices.\n",
            "    *   **Valuation:** While down year-over-year, MSFT's valuation is still relatively high compared to some other companies, leaving it susceptible to correction if growth slows.\n",
            "*   **Opportunities:**\n",
            "    *   **Cloud Computing Growth:**  The cloud computing market is still growing rapidly, and MSFT's Azure platform is well-positioned to benefit.\n",
            "    *   **AI Integration:** MSFT's investments in artificial intelligence (AI) and its integration into its products (e.g., Bing with ChatGPT) could drive significant growth.\n",
            "    *   **Gaming (Activision Blizzard Acquisition):**  The acquisition of Activision Blizzard (pending regulatory approval) could significantly boost MSFT's gaming revenue and market share.\n",
            "    *   **Productivity Software:** MSFT's Office 365 and Teams continue to be dominant players in the productivity software market.\n",
            "    *   **Share Buybacks and Dividends:** MSFT has a history of returning capital to shareholders through share buybacks and dividends, which can support the stock price.\n",
            "\n",
            "**Recommendation:**\n",
            "\n",
            "Based on the provided data and considering the broader context, my recommendation is **HOLD** with a cautious outlook.\n",
            "\n",
            "**Justification:**\n",
            "\n",
            "*   **Mixed Signals:** The data presents a mixed picture. While the recent weekly gain is encouraging, the negative monthly and yearly performance suggests underlying weakness.\n",
            "*   **Market Uncertainty:** The current market environment is volatile, with concerns about inflation, interest rates, and potential economic slowdown. This makes it difficult to predict short-term movements.\n",
            "*   **Long-Term Potential:** MSFT has strong long-term potential due to its leading position in cloud computing, AI, and productivity software. However, these growth drivers are not immune to macroeconomic headwinds.\n",
            "*   **Valuation Concerns:** While the recent price dip has made MSFT slightly more attractive, the valuation remains relatively high, suggesting limited upside in the short term.\n",
            "*   **Risk Mitigation:** Holding the stock allows you to participate in any potential upside from MSFT's growth initiatives. However, it's crucial to monitor the situation closely and be prepared to reduce your position if the market deteriorates or if MSFT's performance weakens further.\n",
            "*   **Averaging Strategy:** If you are a long-term investor and believe in MSFT's future, consider dollar-cost averaging.  This involves investing a fixed amount of money at regular intervals, regardless of the stock price. This can help to mitigate risk and potentially improve your average purchase price over time.\n",
            "\n",
            "**Important Considerations:**\n",
            "\n",
            "*   **Diversification:** Ensure your portfolio is well-diversified to mitigate risk. Don't put all your eggs in one basket.\n",
            "*   **Risk Tolerance:** Consider your own risk tolerance and investment goals before making any decisions.\n",
            "*   **Further Research:** This analysis is based on limited information. Conduct thorough research and consult with a financial advisor before making any investment decisions.  Look at MSFT's earnings reports, analyst ratings, and industry trends.\n",
            "*   **Monitor News:** Stay informed about developments that could impact MSFT's stock price, such as new product launches, regulatory changes, and economic data releases.\n",
            "\n",
            "**In summary, while MSFT has strong fundamentals and long-term growth potential, the current market uncertainty and recent underperformance warrant a cautious approach. Holding the stock while monitoring the situation closely is the most prudent course of action at this time.**\n",
            "\u001b[0m\n",
            "Thought:\u001b[32;1m\u001b[1;3mI now know the final answer\n",
            "Final Answer: HOLD\u001b[0m\n",
            "\n",
            "\u001b[1m> Finished chain.\u001b[0m\n",
            "{'input': 'give recommandation for microsoft', 'output': 'HOLD'}\n"
          ]
        }
      ],
      "source": [
        "response = agent.invoke(\"give recommandation for microsoft\")\n",
        "print(response)\n"
      ]
    },
    {
      "cell_type": "code",
      "execution_count": null,
      "metadata": {
        "id": "l_h14u8vXL1u"
      },
      "outputs": [],
      "source": []
    },
    {
      "cell_type": "code",
      "execution_count": null,
      "metadata": {
        "id": "BY14nzGxXL1u"
      },
      "outputs": [],
      "source": []
    },
    {
      "cell_type": "code",
      "execution_count": null,
      "metadata": {
        "id": "hNmCtcRiXL1u"
      },
      "outputs": [],
      "source": []
    },
    {
      "cell_type": "code",
      "execution_count": null,
      "metadata": {
        "id": "_jhbIsx4XL1u"
      },
      "outputs": [],
      "source": []
    }
  ],
  "metadata": {
    "colab": {
      "provenance": [],
      "include_colab_link": true
    },
    "kernelspec": {
      "display_name": "Python 3 (ipykernel)",
      "language": "python",
      "name": "python3"
    },
    "language_info": {
      "codemirror_mode": {
        "name": "ipython",
        "version": 3
      },
      "file_extension": ".py",
      "mimetype": "text/x-python",
      "name": "python",
      "nbconvert_exporter": "python",
      "pygments_lexer": "ipython3",
      "version": "3.12.4"
    }
  },
  "nbformat": 4,
  "nbformat_minor": 0
}