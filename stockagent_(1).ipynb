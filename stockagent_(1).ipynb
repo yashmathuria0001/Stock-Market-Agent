{
  "cells": [
    {
      "cell_type": "markdown",
      "metadata": {
        "id": "view-in-github",
        "colab_type": "text"
      },
      "source": [
        "<a href=\"https://colab.research.google.com/github/yashmathuria0001/Stock-Market-Agent/blob/main/stockagent_(1).ipynb\" target=\"_parent\"><img src=\"https://colab.research.google.com/assets/colab-badge.svg\" alt=\"Open In Colab\"/></a>"
      ]
    },
    {
      "cell_type": "code",
      "execution_count": 8,
      "metadata": {
        "id": "x9mynMEeE-VT"
      },
      "outputs": [],
      "source": [
        "!pip install langchain langchain-community groq yfinance langchain_groq tavily-python --quiet"
      ]
    },
    {
      "cell_type": "code",
      "execution_count": 9,
      "metadata": {
        "id": "_bvjOwp6JKz_"
      },
      "outputs": [],
      "source": [
        "!pip install -qU duckduckgo-search"
      ]
    },
    {
      "cell_type": "code",
      "execution_count": 10,
      "metadata": {
        "id": "tThgFjx-HzL-"
      },
      "outputs": [],
      "source": [
        "from google.colab import userdata\n",
        "from langchain_groq import ChatGroq\n",
        "\n",
        "\n",
        "llm = ChatGroq(model_name=\"llama3-70b-8192\", api_key=userdata.get('new_api'))"
      ]
    },
    {
      "cell_type": "code",
      "execution_count": 11,
      "metadata": {
        "id": "jQMedfm7GJrt",
        "colab": {
          "base_uri": "https://localhost:8080/"
        },
        "outputId": "11cded94-adf5-4066-cfa4-3adc748402fb"
      },
      "outputs": [
        {
          "output_type": "stream",
          "name": "stderr",
          "text": [
            "<ipython-input-11-64d9d1011677>:93: LangChainDeprecationWarning: LangChain agents will continue to be supported, but it is recommended for new use cases to be built with LangGraph. LangGraph offers a more flexible and full-featured framework for building agents, including support for tool-calling, persistence of state, and human-in-the-loop workflows. For details, refer to the `LangGraph documentation <https://langchain-ai.github.io/langgraph/>`_ as well as guides for `Migrating from AgentExecutor <https://python.langchain.com/docs/how_to/migrate_agent/>`_ and LangGraph's `Pre-built ReAct agent <https://langchain-ai.github.io/langgraph/how-tos/create-react-agent/>`_.\n",
            "  agent = initialize_agent(\n"
          ]
        }
      ],
      "source": [
        "import os\n",
        "import yfinance as yf\n",
        "from langchain.tools import Tool, DuckDuckGoSearchRun\n",
        "from langchain.agents import initialize_agent, AgentType\n",
        "import ast\n",
        "import operator as op\n",
        "\n",
        "def get_stock_price(ticker: str) -> str:\n",
        "    \"\"\"\n",
        "    Fetches the latest stock price using Yahoo Finance.\n",
        "    \"\"\"\n",
        "    try:\n",
        "        stock = yf.Ticker(ticker)\n",
        "        price = stock.history(period=\"1d\")[\"Close\"].iloc[-1]\n",
        "        return f\"The latest stock price of {ticker} is ${price:.2f}\"\n",
        "    except Exception as e:\n",
        "        return f\"Error fetching stock price for {ticker}: {str(e)}\"\n",
        "\n",
        "def get_finance_report(ticker: str) -> str:\n",
        "    \"\"\"\n",
        "    Fetches key financial data for a given ticker symbol using yfinance.\n",
        "    Returns basic company info and a snapshot of recent financials.\n",
        "    \"\"\"\n",
        "    try:\n",
        "        stock = yf.Ticker(ticker)\n",
        "        info = stock.info\n",
        "        financials = stock.financials\n",
        "        report = f\"Company: {info.get('longName', ticker)}\\n\"\n",
        "        report += f\"Sector: {info.get('sector', 'N/A')}\\n\"\n",
        "        report += \"Recent Financials:\\n\"\n",
        "        report += str(financials.head())\n",
        "        return report\n",
        "    except Exception as e:\n",
        "        return f\"Error fetching finance report for {ticker}: {str(e)}\"\n",
        "\n",
        "finance_report_tool = Tool(\n",
        "    name=\"Yahoo Finance Report\",\n",
        "    func=get_finance_report,\n",
        "    description=\"Fetches key financial data for a given ticker symbol (e.g., AAPL, TSLA, MSFT).\"\n",
        ")\n",
        "\n",
        "\n",
        "web_search_tool = DuckDuckGoSearchRun()\n",
        "\n",
        "operators = {\n",
        "    ast.Add: op.add,\n",
        "    ast.Sub: op.sub,\n",
        "    ast.Mult: op.mul,\n",
        "    ast.Div: op.truediv,\n",
        "    ast.Pow: op.pow,\n",
        "    ast.USub: op.neg,\n",
        "}\n",
        "\n",
        "def safe_eval(expr: str) -> float:\n",
        "    \"\"\"\n",
        "    Safely evaluate an arithmetic expression using Python's AST.\n",
        "    \"\"\"\n",
        "    def eval_node(node):\n",
        "        if isinstance(node, ast.Num):\n",
        "            return node.n\n",
        "        elif isinstance(node, ast.BinOp):\n",
        "            return operators[type(node.op)](eval_node(node.left), eval_node(node.right))\n",
        "        elif isinstance(node, ast.UnaryOp):\n",
        "            return operators[type(node.op)](eval_node(node.operand))\n",
        "        else:\n",
        "            raise TypeError(f\"Unsupported type: {node}\")\n",
        "\n",
        "    node = ast.parse(expr, mode='eval').body\n",
        "    return eval_node(node)\n",
        "\n",
        "def simple_calculator(expression: str) -> str:\n",
        "    \"\"\"\n",
        "    Evaluates a simple arithmetic expression safely.\n",
        "    Example: \"45 * 67\"\n",
        "    \"\"\"\n",
        "    try:\n",
        "        result = safe_eval(expression)\n",
        "        return f\"The result of {expression} is {result}\"\n",
        "    except Exception as e:\n",
        "        return f\"Error evaluating expression: {str(e)}\"\n",
        "\n",
        "calculator_tool = Tool(\n",
        "    name=\"Custom Calculator\",\n",
        "    func=simple_calculator,\n",
        "    description=\"Evaluates basic arithmetic expressions safely. Example: '45 * 67'.\"\n",
        ")\n",
        "\n",
        "stock_price_tool = Tool(\n",
        "    name=\"Stock Price Fetcher\",\n",
        "    func=get_stock_price,\n",
        "    description=\"Fetches the latest stock price for a given ticker symbol (e.g., AAPL, TSLA, MSFT).\"\n",
        ")\n",
        "agent = initialize_agent(\n",
        "    tools=[stock_price_tool, calculator_tool, finance_report_tool, web_search_tool],\n",
        "    llm=llm,\n",
        "    agent=AgentType.ZERO_SHOT_REACT_DESCRIPTION,\n",
        "    verbose=True\n",
        ")\n"
      ]
    },
    {
      "cell_type": "code",
      "execution_count": 12,
      "metadata": {
        "id": "_hDdNX-EPfn3",
        "colab": {
          "base_uri": "https://localhost:8080/"
        },
        "outputId": "76820b6a-9050-4d17-fc9e-2a29a7fa6df2"
      },
      "outputs": [
        {
          "output_type": "stream",
          "name": "stderr",
          "text": [
            "<ipython-input-12-c7b38b29decc>:2: LangChainDeprecationWarning: The method `Chain.run` was deprecated in langchain 0.1.0 and will be removed in 1.0. Use :meth:`~invoke` instead.\n",
            "  print(agent.run(var))\n"
          ]
        },
        {
          "output_type": "stream",
          "name": "stdout",
          "text": [
            "\n",
            "\n",
            "\u001b[1m> Entering new AgentExecutor chain...\u001b[0m\n",
            "\u001b[32;1m\u001b[1;3mThought: I need to get the current stock price of NVIDIA to determine the range of buy and sell prices.\n",
            "\n",
            "Action: Stock Price Fetcher\n",
            "Action Input: NVDA\u001b[0m\n",
            "Observation: \u001b[36;1m\u001b[1;3mThe latest stock price of NVDA is $121.83\u001b[0m\n",
            "Thought:\u001b[32;1m\u001b[1;3mThought: I also need to get the key financial data of NVIDIA to determine the range of buy and sell prices.\n",
            "\n",
            "Action: Yahoo Finance Report\n",
            "Action Input: NVDA\u001b[0m\n",
            "Observation: \u001b[38;5;200m\u001b[1;3mCompany: NVIDIA Corporation\n",
            "Sector: Technology\n",
            "Recent Financials:\n",
            "                                           2025-01-31     2024-01-31  \\\n",
            "Tax Effect Of Unusual Items                       0.0            0.0   \n",
            "Tax Rate For Calcs                              0.133           0.12   \n",
            "Normalized EBITDA                       86137000000.0  35583000000.0   \n",
            "Total Unusual Items                               0.0            0.0   \n",
            "Total Unusual Items Excluding Goodwill            0.0            0.0   \n",
            "\n",
            "                                          2023-01-31     2022-01-31  \n",
            "Tax Effect Of Unusual Items             -284130000.0            0.0  \n",
            "Tax Rate For Calcs                              0.21          0.019  \n",
            "Normalized EBITDA                       7340000000.0  11351000000.0  \n",
            "Total Unusual Items                    -1353000000.0            0.0  \n",
            "Total Unusual Items Excluding Goodwill -1353000000.0            0.0  \u001b[0m\n",
            "Thought:\u001b[32;1m\u001b[1;3mThought: Now that I have the current stock price and key financial data, I need to determine the range of buy and sell prices. \n",
            "\n",
            "Action: Custom Calculator\n",
            "Action Input: '121.83 * 0.95' (to calculate 5% below the current price as a possible buy price)\u001b[0m\n",
            "Observation: \u001b[33;1m\u001b[1;3mError evaluating expression: invalid syntax. Perhaps you forgot a comma? (<unknown>, line 1)\u001b[0m\n",
            "Thought:\u001b[32;1m\u001b[1;3mIt looks like there's a syntax error in the Custom Calculator input. Let me try again.\n",
            "\n",
            "Action: Custom Calculator\n",
            "Action Input: '121.83 * 0.95'\u001b[0m\n",
            "Observation: \u001b[33;1m\u001b[1;3mError evaluating expression: Unsupported type: <ast.Constant object at 0x7bd03b2e4520>\u001b[0m\n",
            "Thought:\u001b[32;1m\u001b[1;3mIt looks like there's a syntax error in the Custom Calculator input. Let me try again.\n",
            "\n",
            "Action: Custom Calculator\n",
            "Action Input: \"121.83 * 0.95\"\u001b[0m\n",
            "Observation: \u001b[33;1m\u001b[1;3mThe result of 121.83 * 0.95 is 115.73849999999999\u001b[0m\n",
            "Thought:\u001b[32;1m\u001b[1;3mThought: Now that I have the result of the calculation, I can determine the buy price. The buy price would be around $115.74.\n",
            "\n",
            "Action: Custom Calculator\n",
            "Action Input: \"121.83 * 1.05\"\u001b[0m\n",
            "Observation: \u001b[33;1m\u001b[1;3mThe result of 121.83 * 1.05 is 127.92150000000001\u001b[0m\n",
            "Thought:\u001b[32;1m\u001b[1;3mThought: I now know the final answer\n",
            "Final Answer: The range of buy and sell for NVIDIA stock is around $115.74 to $127.92.\u001b[0m\n",
            "\n",
            "\u001b[1m> Finished chain.\u001b[0m\n",
            "The range of buy and sell for NVIDIA stock is around $115.74 to $127.92.\n"
          ]
        }
      ],
      "source": [
        "var=\"What is the range of buy and sell for Nvida stock?\"\n",
        "print(agent.run(var))"
      ]
    },
    {
      "cell_type": "code",
      "execution_count": null,
      "metadata": {
        "id": "l_h14u8vXL1u"
      },
      "outputs": [],
      "source": []
    },
    {
      "cell_type": "code",
      "execution_count": null,
      "metadata": {
        "id": "BY14nzGxXL1u"
      },
      "outputs": [],
      "source": []
    },
    {
      "cell_type": "code",
      "execution_count": null,
      "metadata": {
        "id": "hNmCtcRiXL1u"
      },
      "outputs": [],
      "source": []
    },
    {
      "cell_type": "code",
      "execution_count": null,
      "metadata": {
        "id": "_jhbIsx4XL1u"
      },
      "outputs": [],
      "source": []
    }
  ],
  "metadata": {
    "colab": {
      "provenance": [],
      "include_colab_link": true
    },
    "kernelspec": {
      "display_name": "Python 3 (ipykernel)",
      "language": "python",
      "name": "python3"
    },
    "language_info": {
      "codemirror_mode": {
        "name": "ipython",
        "version": 3
      },
      "file_extension": ".py",
      "mimetype": "text/x-python",
      "name": "python",
      "nbconvert_exporter": "python",
      "pygments_lexer": "ipython3",
      "version": "3.12.4"
    }
  },
  "nbformat": 4,
  "nbformat_minor": 0
}